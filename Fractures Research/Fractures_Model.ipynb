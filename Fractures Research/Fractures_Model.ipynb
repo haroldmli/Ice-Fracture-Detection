{
 "cells": [
  {
   "cell_type": "markdown",
   "metadata": {},
   "source": [
    "### Import Libraries"
   ]
  },
  {
   "cell_type": "code",
   "execution_count": 20,
   "metadata": {},
   "outputs": [],
   "source": [
    "import numpy as np\n",
    "import pandas as pd\n",
    "from scipy.io import loadmat\n",
    "import matplotlib.pyplot as plt\n",
    "%matplotlib inline"
   ]
  },
  {
   "cell_type": "code",
   "execution_count": 88,
   "metadata": {},
   "outputs": [],
   "source": [
    "from sklearn.linear_model import Ridge"
   ]
  },
  {
   "cell_type": "code",
   "execution_count": 223,
   "metadata": {},
   "outputs": [],
   "source": [
    "from __future__ import print_function\n",
    "\n",
    "import keras\n",
    "from keras import metrics\n",
    "from keras.datasets import mnist\n",
    "from keras.models import Sequential\n",
    "from keras.optimizers import RMSprop, SGD\n",
    "from keras.layers import Dense, Dropout, Activation, Flatten, BatchNormalization\n",
    "from keras.layers import Conv2D, MaxPooling2D, LeakyReLU\n",
    "from keras.models import model_from_json\n",
    "from keras.callbacks import EarlyStopping"
   ]
  },
  {
   "cell_type": "markdown",
   "metadata": {},
   "source": [
    "### Get Data"
   ]
  },
  {
   "cell_type": "code",
   "execution_count": 317,
   "metadata": {},
   "outputs": [],
   "source": [
    "fracture_data = loadmat('fracture.mat')['fracture']"
   ]
  },
  {
   "cell_type": "code",
   "execution_count": 318,
   "metadata": {},
   "outputs": [],
   "source": [
    "stress_data = loadmat('stress.mat')['stress']\n",
    "thickness_data = loadmat('thickness.mat')['thickness']"
   ]
  },
  {
   "cell_type": "code",
   "execution_count": 319,
   "metadata": {},
   "outputs": [],
   "source": [
    "stress_data = np.nan_to_num(stress_data)\n",
    "thickness_data = np.nan_to_num(thickness_data)"
   ]
  },
  {
   "cell_type": "markdown",
   "metadata": {},
   "source": [
    "### Baseline Model:  Linear Regression\n",
    "#### Prediction Correlation ~ 0.73, RMSE ~3.8k"
   ]
  },
  {
   "cell_type": "code",
   "execution_count": 320,
   "metadata": {},
   "outputs": [],
   "source": [
    "# Baseline Model 1: Linear Regression\n",
    "\n",
    "train_split = int(fracture_data.shape[1]/2)\n",
    "valid_split = int(fracture_data.shape[1]*3/4)\n",
    "\n",
    "fracture_train = fracture_data[:,:train_split].flatten()\n",
    "stress_train = stress_data[:, :train_split].flatten()\n",
    "thickness_train = thickness_data[:,:train_split].flatten()\n",
    "\n",
    "fracture_valid = fracture_data[:, train_split:valid_split].flatten()\n",
    "stress_valid = stress_data[:, train_split:valid_split].flatten()\n",
    "thickness_valid = thickness_data[:, train_split:valid_split].flatten()\n",
    "\n",
    "fracture_test = fracture_data[:, valid_split:].flatten()\n",
    "stress_test = stress_data[:, valid_split:].flatten()\n",
    "thickness_test = thickness_data[:, valid_split:].flatten()"
   ]
  },
  {
   "cell_type": "code",
   "execution_count": 321,
   "metadata": {},
   "outputs": [
    {
     "name": "stdout",
     "output_type": "stream",
     "text": [
      "10000000.0\n"
     ]
    }
   ],
   "source": [
    "train_x = np.transpose(np.array([stress_train, thickness_train]))\n",
    "train_y = fracture_train\n",
    "\n",
    "valid_x = np.transpose(np.array([stress_valid, thickness_valid]))\n",
    "valid_y = fracture_valid\n",
    "\n",
    "test_x = np.transpose(np.array([stress_test, thickness_test]))\n",
    "test_y = fracture_test\n",
    "\n",
    "alpha_list = [1e1, 1e2, 1e3, 1e4, 1e5, 1e6, 1e7, 1e8, 1e9, 1e10]\n",
    "\n",
    "rmse_store = np.Inf\n",
    "alpha_store = alpha_list[0]\n",
    "\n",
    "for alpha in alpha_list:\n",
    "    lr_model = Ridge(alpha = alpha)\n",
    "    lr_model.fit(train_x, train_y)\n",
    "    valid_y_predict = lr_model.predict(valid_x)\n",
    "    rmse = sum((valid_y_predict - valid_y)**2)\n",
    "    if rmse < rmse_store:\n",
    "        alpha_store = alpha\n",
    "        rmse_store = rmse\n",
    "\n",
    "print(alpha_store)\n",
    "lr_model_final = Ridge(alpha = alpha_store)\n",
    "lr_model_final.fit(train_x, train_y)\n",
    "test_y_predict = lr_model_final.predict(test_x)"
   ]
  },
  {
   "cell_type": "code",
   "execution_count": 323,
   "metadata": {},
   "outputs": [
    {
     "data": {
      "text/plain": [
       "[<matplotlib.lines.Line2D at 0xb69c4f358>]"
      ]
     },
     "execution_count": 323,
     "metadata": {},
     "output_type": "execute_result"
    },
    {
     "data": {
      "image/png": "[encoded data removed]",
      "text/plain": [
       "<Figure size 432x288 with 1 Axes>"
      ]
     },
     "metadata": {},
     "output_type": "display_data"
    }
   ],
   "source": [
    "plt.plot(range(len(test_y)), test_y_predict, alpha = 0.5)\n",
    "plt.plot(range(len(test_y)), test_y, alpha = 0.5)"
   ]
  },
  {
   "cell_type": "code",
   "execution_count": 324,
   "metadata": {},
   "outputs": [
    {
     "data": {
      "text/plain": [
       "0.7322036885828004"
      ]
     },
     "execution_count": 324,
     "metadata": {},
     "output_type": "execute_result"
    }
   ],
   "source": [
    "np.corrcoef(test_y_predict.flatten(), test_y)[0][1]"
   ]
  },
  {
   "cell_type": "code",
   "execution_count": 325,
   "metadata": {},
   "outputs": [
    {
     "data": {
      "text/plain": [
       "3213.3390996150347"
      ]
     },
     "execution_count": 325,
     "metadata": {},
     "output_type": "execute_result"
    }
   ],
   "source": [
    "np.sqrt(np.mean((test_y_predict.flatten() - test_y.flatten())**2))"
   ]
  },
  {
   "cell_type": "markdown",
   "metadata": {},
   "source": [
    "### Model 1:  Simple 1-Layer Neural Network\n",
    "#### Prediction Correlation ~ 0.84, RMSE = 3.8k"
   ]
  },
  {
   "cell_type": "code",
   "execution_count": 312,
   "metadata": {},
   "outputs": [],
   "source": [
    "# Simple Neural Network\n",
    "\n",
    "train_x = np.transpose(np.array([stress_train, thickness_train]))\n",
    "train_y = fracture_train\n",
    "\n",
    "train_x_mean, train_x_std = np.mean(train_x, axis = 0), np.std(train_x, axis = 0)\n",
    "train_y_mean, train_y_std = np.mean(train_y), np.std(train_y)\n",
    "\n",
    "train_x = (train_x - train_x_mean) / train_x_std\n",
    "train_y = (train_y - train_y_mean) / train_y_std\n",
    "\n",
    "valid_x = np.transpose(np.array([stress_valid, thickness_valid]))\n",
    "valid_y = fracture_valid\n",
    "\n",
    "valid_x = (valid_x - train_x_mean) / train_x_std\n",
    "valid_y = (valid_y - train_y_mean) / train_y_std\n",
    "\n",
    "test_x = np.transpose(np.array([stress_test, thickness_test]))\n",
    "test_y = fracture_test\n",
    "\n",
    "test_x = (test_x - train_x_mean) / train_x_std\n",
    "test_y = (test_y - train_y_mean) / train_y_std"
   ]
  },
  {
   "cell_type": "code",
   "execution_count": 313,
   "metadata": {},
   "outputs": [
    {
     "name": "stdout",
     "output_type": "stream",
     "text": [
      "_________________________________________________________________\n",
      "Layer (type)                 Output Shape              Param #   \n",
      "=================================================================\n",
      "dense_61 (Dense)             (None, 3)                 9         \n",
      "_________________________________________________________________\n",
      "dense_62 (Dense)             (None, 1)                 4         \n",
      "=================================================================\n",
      "Total params: 13\n",
      "Trainable params: 13\n",
      "Non-trainable params: 0\n",
      "_________________________________________________________________\n",
      "Train on 11662650 samples, validate on 5831325 samples\n",
      "Epoch 1/20\n",
      "11662650/11662650 [==============================] - 20s 2us/step - loss: 0.2044 - mean_squared_error: 0.2044 - val_loss: 0.1581 - val_mean_squared_error: 0.15814 - mean_squared_error: 0.30 - ETA: 20s - loss: 0.2971 - me - ETA: 10s - loss: 0.2364 - mean_squared_error: 0.236 - ETA: 10s - loss: 0.2 - ETA: 8s - loss: 0.2301 - mean_squared_error: 0.23 - ETA: 8s - loss: 0.2297 - mean - ETA: 7s - loss: 0.2265 - mean_squared_error:  - ETA: 7s - loss: 0.2256 -  - ETA: 6s - loss: 0.2221 - mean_squared_e - ETA: 6s - loss: - E - ETA: 3s - loss: 0.2122 - \n",
      "Epoch 2/20\n",
      "11662650/11662650 [==============================] - 21s 2us/step - loss: 0.1763 - mean_squared_error: 0.1763 - val_loss: 0.1569 - val_mean_squared_error: 0.1569 0s - loss: 0.1763 - mean_squared\n",
      "Epoch 3/20\n",
      "11662650/11662650 [==============================] - 19s 2us/step - loss: 0.1753 - mean_squared_error: 0.1753 - val_loss: 0.1563 - val_mean_squared_error: 0.1563\n",
      "Epoch 4/20\n",
      "11662650/11662650 [==============================] - 21s 2us/step - loss: 0.1746 - mean_squared_error: 0.1746 - val_loss: 0.1567 - val_mean_squared_error: 0.1567 0. - ETA: 4s - loss: - ETA: 3s - loss: 0.1747 -  - ETA: 2s - loss: 0.1746 - mean_squared_error - ETA: 2s - loss: 0.1747 - mean_squared_error:  - ETA: 2s - loss: 0.1747 - mean_s - E - ETA: 0s - loss: 0.1746 - mean_squared_error\n"
     ]
    }
   ],
   "source": [
    "batch_size = 1024\n",
    "epochs = 20\n",
    "\n",
    "model = Sequential()\n",
    "model.add(Dense(3, activation='relu', input_shape=(2,), kernel_initializer = 'random_uniform'))\n",
    "model.add(Dense(1, activation='relu'))\n",
    "\n",
    "model.summary()\n",
    "\n",
    "model.compile(loss='mean_squared_error',\n",
    "              optimizer=SGD(),\n",
    "              metrics=[metrics.mse])\n",
    "\n",
    "callback = [EarlyStopping(monitor='val_loss',\n",
    "                              min_delta=0,\n",
    "                              patience=1,\n",
    "                              verbose=0, mode='auto')]\n",
    "\n",
    "history = model.fit(train_x, train_y,\n",
    "                    batch_size=batch_size,\n",
    "                    epochs=epochs,\n",
    "                    verbose=1,\n",
    "                    validation_data=(valid_x, valid_y),\n",
    "                    callbacks = callback)\n",
    "\n",
    "score = model.evaluate(test_x, test_y, verbose=0)"
   ]
  },
  {
   "cell_type": "code",
   "execution_count": 314,
   "metadata": {},
   "outputs": [
    {
     "data": {
      "text/plain": [
       "[<matplotlib.lines.Line2D at 0xb6f0969b0>]"
      ]
     },
     "execution_count": 314,
     "metadata": {},
     "output_type": "execute_result"
    },
    {
     "data": {
      "image/png": "[encoded data removed]",
      "text/plain": [
       "<Figure size 432x288 with 1 Axes>"
      ]
     },
     "metadata": {},
     "output_type": "display_data"
    }
   ],
   "source": [
    "test_y_predict = model.predict(test_x)*train_y_std + train_y_mean\n",
    "plt.plot(range(len(test_y)), test_y_predict, alpha = 0.5)\n",
    "plt.plot(range(len(test_y)), test_y*train_y_std + train_y_mean, alpha = 0.5)"
   ]
  },
  {
   "cell_type": "code",
   "execution_count": 315,
   "metadata": {},
   "outputs": [
    {
     "data": {
      "text/plain": [
       "0.8356757665029602"
      ]
     },
     "execution_count": 315,
     "metadata": {},
     "output_type": "execute_result"
    }
   ],
   "source": [
    "np.corrcoef(test_y_predict.flatten(), test_y)[0][1]"
   ]
  },
  {
   "cell_type": "code",
   "execution_count": 316,
   "metadata": {},
   "outputs": [
    {
     "data": {
      "text/plain": [
       "3775.372706921231"
      ]
     },
     "execution_count": 316,
     "metadata": {},
     "output_type": "execute_result"
    }
   ],
   "source": [
    "np.sqrt(np.mean((test_y_predict.flatten() - (test_y * train_y_std + train_y_mean))**2))"
   ]
  },
  {
   "cell_type": "markdown",
   "metadata": {},
   "source": [
    "### Model 2:  Conv 3D Neural Network\n",
    "#### Prediction Correlation ~ 0.84, RMSE ~3.7k"
   ]
  },
  {
   "cell_type": "code",
   "execution_count": 288,
   "metadata": {},
   "outputs": [],
   "source": [
    "# 3D Convolutional\n",
    "stress_data = np.pad(stress_data, ((1, 1), (1, 1)), 'constant', \n",
    "                constant_values=((0, 0), (0, 0)))\n",
    "thickness_data = np.pad(thickness_data, ((1, 1), (1, 1)), 'constant', \n",
    "                constant_values=((0, 0), (0, 0)))\n",
    "fracture_data = np.pad(fracture_data, ((1, 1), (1, 1)), 'constant', \n",
    "                constant_values=((0, 0), (0, 0)))"
   ]
  },
  {
   "cell_type": "code",
   "execution_count": 289,
   "metadata": {},
   "outputs": [],
   "source": [
    "stress_data = np.array([stress_data[(y-1):(y+2), (x-1):(x+2)] \n",
    "              for x in np.arange(1, stress_data.shape[1] - 1) \n",
    "              for y in np.arange(1, stress_data.shape[0] - 1)])\n",
    "\n",
    "thickness_data = np.array([thickness_data[(y-1):(y+2), (x-1):(x+2)] \n",
    "              for x in np.arange(1, thickness_data.shape[1] - 1) \n",
    "              for y in np.arange(1, thickness_data.shape[0] - 1)])\n",
    "\n",
    "fracture_data = np.array([fracture_data[y,x] \n",
    "              for x in np.arange(1, fracture_data.shape[1] - 1) \n",
    "              for y in np.arange(1, fracture_data.shape[0] - 1)])"
   ]
  },
  {
   "cell_type": "code",
   "execution_count": 290,
   "metadata": {},
   "outputs": [],
   "source": [
    "train_split = int(fracture_data.shape[0]/2)\n",
    "valid_split = int(fracture_data.shape[0]*3/4)\n",
    "\n",
    "fracture_train = fracture_data[:train_split,...]\n",
    "stress_train = stress_data[:train_split,...]\n",
    "thickness_train = thickness_data[:train_split,...]\n",
    "\n",
    "fracture_valid = fracture_data[train_split:valid_split,...]\n",
    "stress_valid = stress_data[train_split:valid_split,...]\n",
    "thickness_valid = thickness_data[train_split:valid_split,...]\n",
    "\n",
    "fracture_test = fracture_data[valid_split:,...]\n",
    "stress_test = stress_data[valid_split:,...]\n",
    "thickness_test = thickness_data[valid_split:,...]"
   ]
  },
  {
   "cell_type": "code",
   "execution_count": 291,
   "metadata": {},
   "outputs": [],
   "source": [
    "# Simple Neural Network\n",
    "\n",
    "train_x = np.stack([stress_train, thickness_train], axis = 3)\n",
    "train_y = fracture_train\n",
    "\n",
    "train_x_mean, train_x_std = np.mean(train_x, axis = (0,1,2)), np.std(train_x, axis = (0,1,2))\n",
    "train_y_mean, train_y_std = np.mean(train_y), np.std(train_y)\n",
    "\n",
    "train_x = (train_x - train_x_mean) / train_x_std\n",
    "train_y = (train_y - train_y_mean) / train_y_std\n",
    "\n",
    "valid_x = np.stack([stress_valid, thickness_valid], axis = 3)\n",
    "valid_y = fracture_valid\n",
    "\n",
    "valid_x = (valid_x - train_x_mean) / train_x_std\n",
    "valid_y = (valid_y - train_y_mean) / train_y_std\n",
    "\n",
    "test_x = np.stack([stress_test, thickness_test], axis = 3)\n",
    "test_y = fracture_test\n",
    "\n",
    "test_x = (test_x - train_x_mean) / train_x_std\n",
    "test_y = (test_y - train_y_mean) / train_y_std"
   ]
  },
  {
   "cell_type": "code",
   "execution_count": 292,
   "metadata": {},
   "outputs": [
    {
     "name": "stdout",
     "output_type": "stream",
     "text": [
      "_________________________________________________________________\n",
      "Layer (type)                 Output Shape              Param #   \n",
      "=================================================================\n",
      "conv2d_3 (Conv2D)            (None, 1, 1, 16)          304       \n",
      "_________________________________________________________________\n",
      "activation_3 (Activation)    (None, 1, 1, 16)          0         \n",
      "_________________________________________________________________\n",
      "flatten_3 (Flatten)          (None, 16)                0         \n",
      "_________________________________________________________________\n",
      "dense_60 (Dense)             (None, 1)                 17        \n",
      "=================================================================\n",
      "Total params: 321\n",
      "Trainable params: 321\n",
      "Non-trainable params: 0\n",
      "_________________________________________________________________\n",
      "Train on 11664850 samples, validate on 5832425 samples\n",
      "Epoch 1/20\n",
      "11664850/11664850 [==============================] - 35s 3us/step - loss: 0.2040 - mean_squared_error: 0.2040 - val_loss: 0.1627 - val_mean_squared_error: 0.1627 - mean_squared_error: 0.23 - ETA: 34s - loss: 0.2321 - mean_squared_error: 0.232 - ETA: 34 - ETA: 21s - \n",
      "Epoch 2/20\n",
      "11664850/11664850 [==============================] - 24s 2us/step - loss: 0.1783 - mean_squared_error: 0.1783 - val_loss: 0.1765 - val_mean_squared_error: 0.1765 - ETA: 1 - ETA: 9s - loss: 0.1800 - mean_squared_error: 0.18 - ETA\n"
     ]
    }
   ],
   "source": [
    "batch_size = 1024\n",
    "epochs = 20\n",
    "\n",
    "model = Sequential()\n",
    "    \n",
    "model.add(Conv2D(16, kernel_size = (3,3), data_format = 'channels_last',\n",
    "                     input_shape = train_x.shape[1:], kernel_initializer = 'random_uniform'))\n",
    "model.add(Activation('relu'))\n",
    "\n",
    "model.add(Flatten())\n",
    "model.add(Dense(1, activation = 'relu'))\n",
    "\n",
    "model.summary()\n",
    "\n",
    "model.compile(loss='mean_squared_error',\n",
    "              optimizer=SGD(),\n",
    "              metrics=[metrics.mse])\n",
    "\n",
    "callback = [EarlyStopping(monitor='val_loss',\n",
    "                              min_delta=0,\n",
    "                              patience=1,\n",
    "                              verbose=0, mode='auto')]\n",
    "\n",
    "history = model.fit(train_x, train_y,\n",
    "                    batch_size=batch_size,\n",
    "                    epochs=epochs,\n",
    "                    verbose=1,\n",
    "                    validation_data=(valid_x, valid_y),\n",
    "                    callbacks = callback)\n",
    "\n",
    "score = model.evaluate(test_x, test_y, verbose=0)"
   ]
  },
  {
   "cell_type": "code",
   "execution_count": 296,
   "metadata": {},
   "outputs": [
    {
     "data": {
      "text/plain": [
       "[<matplotlib.lines.Line2D at 0xb683a52b0>]"
      ]
     },
     "execution_count": 296,
     "metadata": {},
     "output_type": "execute_result"
    },
    {
     "data": {
      "image/png": "[encoded data removed]",
      "text/plain": [
       "<Figure size 432x288 with 1 Axes>"
      ]
     },
     "metadata": {},
     "output_type": "display_data"
    }
   ],
   "source": [
    "test_y_predict = model.predict(test_x)*train_y_std + train_y_mean\n",
    "\n",
    "plt.plot(range(len(test_y)), test_y_predict, alpha = 0.5)\n",
    "plt.plot(range(len(test_y)), test_y*train_y_std + train_y_mean, alpha = 0.5)"
   ]
  },
  {
   "cell_type": "code",
   "execution_count": 302,
   "metadata": {},
   "outputs": [
    {
     "data": {
      "text/plain": [
       "3720.4626239112963"
      ]
     },
     "execution_count": 302,
     "metadata": {},
     "output_type": "execute_result"
    }
   ],
   "source": [
    "np.sqrt(np.mean((test_y_predict.flatten() - (test_y * train_y_std + train_y_mean))**2))"
   ]
  },
  {
   "cell_type": "code",
   "execution_count": null,
   "metadata": {},
   "outputs": [],
   "source": []
  }
 ],
 "metadata": {
  "kernelspec": {
   "display_name": "Python 3",
   "language": "python",
   "name": "python3"
  },
  "language_info": {
   "codemirror_mode": {
    "name": "ipython",
    "version": 3
   },
   "file_extension": ".py",
   "mimetype": "text/x-python",
   "name": "python",
   "nbconvert_exporter": "python",
   "pygments_lexer": "ipython3",
   "version": "3.6.5"
  }
 },
 "nbformat": 4,
 "nbformat_minor": 2
}
